{
  "nbformat": 4,
  "nbformat_minor": 0,
  "metadata": {
    "kernelspec": {
      "name": "python3",
      "display_name": "Python 3",
      "language": "python"
    },
    "language_info": {
      "name": "python",
      "version": "3.6.6",
      "mimetype": "text/x-python",
      "codemirror_mode": {
        "name": "ipython",
        "version": 3
      },
      "pygments_lexer": "ipython3",
      "nbconvert_exporter": "python",
      "file_extension": ".py"
    },
    "colab": {
      "name": "Credit-Card-Fraud-Transaction-Detection-Analysis-Using-Machine-Learning-Approaches-1",
      "provenance": [],
      "collapsed_sections": [],
      "toc_visible": true
    }
  },
  "cells": [
    {
      "cell_type": "code",
      "metadata": {
        "trusted": true,
        "id": "48fBf1DfbgPg"
      },
      "source": [
        "import matplotlib.pyplot as plt\n",
        "from matplotlib.pyplot import figure\n",
        "import seaborn as sns\n",
        "import pandas as pd\n",
        "import numpy as np\n",
        "from sklearn.model_selection import train_test_split,cross_val_score, GridSearchCV\n",
        "from sklearn.neighbors import KNeighborsClassifier\n",
        "from sklearn.linear_model import LogisticRegression\n",
        "from sklearn.ensemble import RandomForestClassifier\n",
        "from sklearn.metrics import accuracy_score, f1_score, confusion_matrix, recall_score, precision_score\n",
        "from sklearn.utils import resample ## Used for sampling the data\n",
        "# from sklearn.cross_validation import cross_val_score, KFold\n",
        "# from scipy.stats import sem"
      ],
      "execution_count": null,
      "outputs": []
    },
    {
      "cell_type": "code",
      "metadata": {
        "colab": {
          "base_uri": "https://localhost:8080/"
        },
        "id": "HtmUbtzabnNq",
        "outputId": "4a137305-e1b5-4a88-e62b-d51265d57a8b"
      },
      "source": [
        "from google.colab import drive\n",
        "drive.mount('/content/drive')"
      ],
      "execution_count": null,
      "outputs": [
        {
          "output_type": "stream",
          "text": [
            "Mounted at /content/drive\n"
          ],
          "name": "stdout"
        }
      ]
    },
    {
      "cell_type": "code",
      "metadata": {
        "trusted": true,
        "id": "OER-oX_9bgPh"
      },
      "source": [
        "cc = pd.read_csv('/content/drive/MyDrive/sample_data/creditcard.csv')"
      ],
      "execution_count": null,
      "outputs": []
    },
    {
      "cell_type": "code",
      "metadata": {
        "trusted": true,
        "colab": {
          "base_uri": "https://localhost:8080/",
          "height": 217
        },
        "id": "omjR8B3BbgPh",
        "outputId": "1ac9b1b7-92d9-4c4c-d3e0-4ddc01267931"
      },
      "source": [
        "cc.head()"
      ],
      "execution_count": null,
      "outputs": [
        {
          "output_type": "execute_result",
          "data": {
            "text/html": [
              "<div>\n",
              "<style scoped>\n",
              "    .dataframe tbody tr th:only-of-type {\n",
              "        vertical-align: middle;\n",
              "    }\n",
              "\n",
              "    .dataframe tbody tr th {\n",
              "        vertical-align: top;\n",
              "    }\n",
              "\n",
              "    .dataframe thead th {\n",
              "        text-align: right;\n",
              "    }\n",
              "</style>\n",
              "<table border=\"1\" class=\"dataframe\">\n",
              "  <thead>\n",
              "    <tr style=\"text-align: right;\">\n",
              "      <th></th>\n",
              "      <th>Time</th>\n",
              "      <th>V1</th>\n",
              "      <th>V2</th>\n",
              "      <th>V3</th>\n",
              "      <th>V4</th>\n",
              "      <th>V5</th>\n",
              "      <th>V6</th>\n",
              "      <th>V7</th>\n",
              "      <th>V8</th>\n",
              "      <th>V9</th>\n",
              "      <th>V10</th>\n",
              "      <th>V11</th>\n",
              "      <th>V12</th>\n",
              "      <th>V13</th>\n",
              "      <th>V14</th>\n",
              "      <th>V15</th>\n",
              "      <th>V16</th>\n",
              "      <th>V17</th>\n",
              "      <th>V18</th>\n",
              "      <th>V19</th>\n",
              "      <th>V20</th>\n",
              "      <th>V21</th>\n",
              "      <th>V22</th>\n",
              "      <th>V23</th>\n",
              "      <th>V24</th>\n",
              "      <th>V25</th>\n",
              "      <th>V26</th>\n",
              "      <th>V27</th>\n",
              "      <th>V28</th>\n",
              "      <th>Amount</th>\n",
              "      <th>Class</th>\n",
              "    </tr>\n",
              "  </thead>\n",
              "  <tbody>\n",
              "    <tr>\n",
              "      <th>0</th>\n",
              "      <td>0.0</td>\n",
              "      <td>-1.359807</td>\n",
              "      <td>-0.072781</td>\n",
              "      <td>2.536347</td>\n",
              "      <td>1.378155</td>\n",
              "      <td>-0.338321</td>\n",
              "      <td>0.462388</td>\n",
              "      <td>0.239599</td>\n",
              "      <td>0.098698</td>\n",
              "      <td>0.363787</td>\n",
              "      <td>0.090794</td>\n",
              "      <td>-0.551600</td>\n",
              "      <td>-0.617801</td>\n",
              "      <td>-0.991390</td>\n",
              "      <td>-0.311169</td>\n",
              "      <td>1.468177</td>\n",
              "      <td>-0.470401</td>\n",
              "      <td>0.207971</td>\n",
              "      <td>0.025791</td>\n",
              "      <td>0.403993</td>\n",
              "      <td>0.251412</td>\n",
              "      <td>-0.018307</td>\n",
              "      <td>0.277838</td>\n",
              "      <td>-0.110474</td>\n",
              "      <td>0.066928</td>\n",
              "      <td>0.128539</td>\n",
              "      <td>-0.189115</td>\n",
              "      <td>0.133558</td>\n",
              "      <td>-0.021053</td>\n",
              "      <td>149.62</td>\n",
              "      <td>0</td>\n",
              "    </tr>\n",
              "    <tr>\n",
              "      <th>1</th>\n",
              "      <td>0.0</td>\n",
              "      <td>1.191857</td>\n",
              "      <td>0.266151</td>\n",
              "      <td>0.166480</td>\n",
              "      <td>0.448154</td>\n",
              "      <td>0.060018</td>\n",
              "      <td>-0.082361</td>\n",
              "      <td>-0.078803</td>\n",
              "      <td>0.085102</td>\n",
              "      <td>-0.255425</td>\n",
              "      <td>-0.166974</td>\n",
              "      <td>1.612727</td>\n",
              "      <td>1.065235</td>\n",
              "      <td>0.489095</td>\n",
              "      <td>-0.143772</td>\n",
              "      <td>0.635558</td>\n",
              "      <td>0.463917</td>\n",
              "      <td>-0.114805</td>\n",
              "      <td>-0.183361</td>\n",
              "      <td>-0.145783</td>\n",
              "      <td>-0.069083</td>\n",
              "      <td>-0.225775</td>\n",
              "      <td>-0.638672</td>\n",
              "      <td>0.101288</td>\n",
              "      <td>-0.339846</td>\n",
              "      <td>0.167170</td>\n",
              "      <td>0.125895</td>\n",
              "      <td>-0.008983</td>\n",
              "      <td>0.014724</td>\n",
              "      <td>2.69</td>\n",
              "      <td>0</td>\n",
              "    </tr>\n",
              "    <tr>\n",
              "      <th>2</th>\n",
              "      <td>1.0</td>\n",
              "      <td>-1.358354</td>\n",
              "      <td>-1.340163</td>\n",
              "      <td>1.773209</td>\n",
              "      <td>0.379780</td>\n",
              "      <td>-0.503198</td>\n",
              "      <td>1.800499</td>\n",
              "      <td>0.791461</td>\n",
              "      <td>0.247676</td>\n",
              "      <td>-1.514654</td>\n",
              "      <td>0.207643</td>\n",
              "      <td>0.624501</td>\n",
              "      <td>0.066084</td>\n",
              "      <td>0.717293</td>\n",
              "      <td>-0.165946</td>\n",
              "      <td>2.345865</td>\n",
              "      <td>-2.890083</td>\n",
              "      <td>1.109969</td>\n",
              "      <td>-0.121359</td>\n",
              "      <td>-2.261857</td>\n",
              "      <td>0.524980</td>\n",
              "      <td>0.247998</td>\n",
              "      <td>0.771679</td>\n",
              "      <td>0.909412</td>\n",
              "      <td>-0.689281</td>\n",
              "      <td>-0.327642</td>\n",
              "      <td>-0.139097</td>\n",
              "      <td>-0.055353</td>\n",
              "      <td>-0.059752</td>\n",
              "      <td>378.66</td>\n",
              "      <td>0</td>\n",
              "    </tr>\n",
              "    <tr>\n",
              "      <th>3</th>\n",
              "      <td>1.0</td>\n",
              "      <td>-0.966272</td>\n",
              "      <td>-0.185226</td>\n",
              "      <td>1.792993</td>\n",
              "      <td>-0.863291</td>\n",
              "      <td>-0.010309</td>\n",
              "      <td>1.247203</td>\n",
              "      <td>0.237609</td>\n",
              "      <td>0.377436</td>\n",
              "      <td>-1.387024</td>\n",
              "      <td>-0.054952</td>\n",
              "      <td>-0.226487</td>\n",
              "      <td>0.178228</td>\n",
              "      <td>0.507757</td>\n",
              "      <td>-0.287924</td>\n",
              "      <td>-0.631418</td>\n",
              "      <td>-1.059647</td>\n",
              "      <td>-0.684093</td>\n",
              "      <td>1.965775</td>\n",
              "      <td>-1.232622</td>\n",
              "      <td>-0.208038</td>\n",
              "      <td>-0.108300</td>\n",
              "      <td>0.005274</td>\n",
              "      <td>-0.190321</td>\n",
              "      <td>-1.175575</td>\n",
              "      <td>0.647376</td>\n",
              "      <td>-0.221929</td>\n",
              "      <td>0.062723</td>\n",
              "      <td>0.061458</td>\n",
              "      <td>123.50</td>\n",
              "      <td>0</td>\n",
              "    </tr>\n",
              "    <tr>\n",
              "      <th>4</th>\n",
              "      <td>2.0</td>\n",
              "      <td>-1.158233</td>\n",
              "      <td>0.877737</td>\n",
              "      <td>1.548718</td>\n",
              "      <td>0.403034</td>\n",
              "      <td>-0.407193</td>\n",
              "      <td>0.095921</td>\n",
              "      <td>0.592941</td>\n",
              "      <td>-0.270533</td>\n",
              "      <td>0.817739</td>\n",
              "      <td>0.753074</td>\n",
              "      <td>-0.822843</td>\n",
              "      <td>0.538196</td>\n",
              "      <td>1.345852</td>\n",
              "      <td>-1.119670</td>\n",
              "      <td>0.175121</td>\n",
              "      <td>-0.451449</td>\n",
              "      <td>-0.237033</td>\n",
              "      <td>-0.038195</td>\n",
              "      <td>0.803487</td>\n",
              "      <td>0.408542</td>\n",
              "      <td>-0.009431</td>\n",
              "      <td>0.798278</td>\n",
              "      <td>-0.137458</td>\n",
              "      <td>0.141267</td>\n",
              "      <td>-0.206010</td>\n",
              "      <td>0.502292</td>\n",
              "      <td>0.219422</td>\n",
              "      <td>0.215153</td>\n",
              "      <td>69.99</td>\n",
              "      <td>0</td>\n",
              "    </tr>\n",
              "  </tbody>\n",
              "</table>\n",
              "</div>"
            ],
            "text/plain": [
              "   Time        V1        V2        V3  ...       V27       V28  Amount  Class\n",
              "0   0.0 -1.359807 -0.072781  2.536347  ...  0.133558 -0.021053  149.62      0\n",
              "1   0.0  1.191857  0.266151  0.166480  ... -0.008983  0.014724    2.69      0\n",
              "2   1.0 -1.358354 -1.340163  1.773209  ... -0.055353 -0.059752  378.66      0\n",
              "3   1.0 -0.966272 -0.185226  1.792993  ...  0.062723  0.061458  123.50      0\n",
              "4   2.0 -1.158233  0.877737  1.548718  ...  0.219422  0.215153   69.99      0\n",
              "\n",
              "[5 rows x 31 columns]"
            ]
          },
          "metadata": {
            "tags": []
          },
          "execution_count": 4
        }
      ]
    },
    {
      "cell_type": "code",
      "metadata": {
        "trusted": true,
        "colab": {
          "base_uri": "https://localhost:8080/"
        },
        "id": "DHeyuSRabgPh",
        "outputId": "14a57d53-a93a-45a0-e68b-f26ad0378237"
      },
      "source": [
        "cc.shape"
      ],
      "execution_count": null,
      "outputs": [
        {
          "output_type": "execute_result",
          "data": {
            "text/plain": [
              "(284807, 31)"
            ]
          },
          "metadata": {
            "tags": []
          },
          "execution_count": 5
        }
      ]
    },
    {
      "cell_type": "code",
      "metadata": {
        "trusted": true,
        "colab": {
          "base_uri": "https://localhost:8080/"
        },
        "id": "5u0jsBW0bgPi",
        "outputId": "1e3ba91d-51c5-4cad-80d0-23fa37d2de4e"
      },
      "source": [
        "cc.info()"
      ],
      "execution_count": null,
      "outputs": [
        {
          "output_type": "stream",
          "text": [
            "<class 'pandas.core.frame.DataFrame'>\n",
            "RangeIndex: 284807 entries, 0 to 284806\n",
            "Data columns (total 31 columns):\n",
            " #   Column  Non-Null Count   Dtype  \n",
            "---  ------  --------------   -----  \n",
            " 0   Time    284807 non-null  float64\n",
            " 1   V1      284807 non-null  float64\n",
            " 2   V2      284807 non-null  float64\n",
            " 3   V3      284807 non-null  float64\n",
            " 4   V4      284807 non-null  float64\n",
            " 5   V5      284807 non-null  float64\n",
            " 6   V6      284807 non-null  float64\n",
            " 7   V7      284807 non-null  float64\n",
            " 8   V8      284807 non-null  float64\n",
            " 9   V9      284807 non-null  float64\n",
            " 10  V10     284807 non-null  float64\n",
            " 11  V11     284807 non-null  float64\n",
            " 12  V12     284807 non-null  float64\n",
            " 13  V13     284807 non-null  float64\n",
            " 14  V14     284807 non-null  float64\n",
            " 15  V15     284807 non-null  float64\n",
            " 16  V16     284807 non-null  float64\n",
            " 17  V17     284807 non-null  float64\n",
            " 18  V18     284807 non-null  float64\n",
            " 19  V19     284807 non-null  float64\n",
            " 20  V20     284807 non-null  float64\n",
            " 21  V21     284807 non-null  float64\n",
            " 22  V22     284807 non-null  float64\n",
            " 23  V23     284807 non-null  float64\n",
            " 24  V24     284807 non-null  float64\n",
            " 25  V25     284807 non-null  float64\n",
            " 26  V26     284807 non-null  float64\n",
            " 27  V27     284807 non-null  float64\n",
            " 28  V28     284807 non-null  float64\n",
            " 29  Amount  284807 non-null  float64\n",
            " 30  Class   284807 non-null  int64  \n",
            "dtypes: float64(30), int64(1)\n",
            "memory usage: 67.4 MB\n"
          ],
          "name": "stdout"
        }
      ]
    },
    {
      "cell_type": "code",
      "metadata": {
        "trusted": true,
        "colab": {
          "base_uri": "https://localhost:8080/"
        },
        "id": "NbTRPeKcbgPi",
        "outputId": "f5a959df-045e-4d1c-c2f7-71ecd2fd8057"
      },
      "source": [
        "cc.Class.value_counts()"
      ],
      "execution_count": null,
      "outputs": [
        {
          "output_type": "execute_result",
          "data": {
            "text/plain": [
              "0    284315\n",
              "1       492\n",
              "Name: Class, dtype: int64"
            ]
          },
          "metadata": {
            "tags": []
          },
          "execution_count": 7
        }
      ]
    },
    {
      "cell_type": "code",
      "metadata": {
        "trusted": true,
        "id": "vjZ7PpKQbgPi"
      },
      "source": [
        "Y = cc['Class']"
      ],
      "execution_count": null,
      "outputs": []
    },
    {
      "cell_type": "code",
      "metadata": {
        "trusted": true,
        "colab": {
          "base_uri": "https://localhost:8080/"
        },
        "id": "EAVlVqiVbgPj",
        "outputId": "29bc4dd0-99b2-455b-c7a2-9a8d59191559"
      },
      "source": [
        "Y.count()"
      ],
      "execution_count": null,
      "outputs": [
        {
          "output_type": "execute_result",
          "data": {
            "text/plain": [
              "284807"
            ]
          },
          "metadata": {
            "tags": []
          },
          "execution_count": 9
        }
      ]
    },
    {
      "cell_type": "code",
      "metadata": {
        "trusted": true,
        "colab": {
          "base_uri": "https://localhost:8080/",
          "height": 217
        },
        "id": "1GiI0Xj-bgPj",
        "outputId": "0c6cb0d0-bccd-48ec-d038-08389574c52e"
      },
      "source": [
        "X = cc.drop(['Class'], axis = 1)\n",
        "X.head()"
      ],
      "execution_count": null,
      "outputs": [
        {
          "output_type": "execute_result",
          "data": {
            "text/html": [
              "<div>\n",
              "<style scoped>\n",
              "    .dataframe tbody tr th:only-of-type {\n",
              "        vertical-align: middle;\n",
              "    }\n",
              "\n",
              "    .dataframe tbody tr th {\n",
              "        vertical-align: top;\n",
              "    }\n",
              "\n",
              "    .dataframe thead th {\n",
              "        text-align: right;\n",
              "    }\n",
              "</style>\n",
              "<table border=\"1\" class=\"dataframe\">\n",
              "  <thead>\n",
              "    <tr style=\"text-align: right;\">\n",
              "      <th></th>\n",
              "      <th>Time</th>\n",
              "      <th>V1</th>\n",
              "      <th>V2</th>\n",
              "      <th>V3</th>\n",
              "      <th>V4</th>\n",
              "      <th>V5</th>\n",
              "      <th>V6</th>\n",
              "      <th>V7</th>\n",
              "      <th>V8</th>\n",
              "      <th>V9</th>\n",
              "      <th>V10</th>\n",
              "      <th>V11</th>\n",
              "      <th>V12</th>\n",
              "      <th>V13</th>\n",
              "      <th>V14</th>\n",
              "      <th>V15</th>\n",
              "      <th>V16</th>\n",
              "      <th>V17</th>\n",
              "      <th>V18</th>\n",
              "      <th>V19</th>\n",
              "      <th>V20</th>\n",
              "      <th>V21</th>\n",
              "      <th>V22</th>\n",
              "      <th>V23</th>\n",
              "      <th>V24</th>\n",
              "      <th>V25</th>\n",
              "      <th>V26</th>\n",
              "      <th>V27</th>\n",
              "      <th>V28</th>\n",
              "      <th>Amount</th>\n",
              "    </tr>\n",
              "  </thead>\n",
              "  <tbody>\n",
              "    <tr>\n",
              "      <th>0</th>\n",
              "      <td>0.0</td>\n",
              "      <td>-1.359807</td>\n",
              "      <td>-0.072781</td>\n",
              "      <td>2.536347</td>\n",
              "      <td>1.378155</td>\n",
              "      <td>-0.338321</td>\n",
              "      <td>0.462388</td>\n",
              "      <td>0.239599</td>\n",
              "      <td>0.098698</td>\n",
              "      <td>0.363787</td>\n",
              "      <td>0.090794</td>\n",
              "      <td>-0.551600</td>\n",
              "      <td>-0.617801</td>\n",
              "      <td>-0.991390</td>\n",
              "      <td>-0.311169</td>\n",
              "      <td>1.468177</td>\n",
              "      <td>-0.470401</td>\n",
              "      <td>0.207971</td>\n",
              "      <td>0.025791</td>\n",
              "      <td>0.403993</td>\n",
              "      <td>0.251412</td>\n",
              "      <td>-0.018307</td>\n",
              "      <td>0.277838</td>\n",
              "      <td>-0.110474</td>\n",
              "      <td>0.066928</td>\n",
              "      <td>0.128539</td>\n",
              "      <td>-0.189115</td>\n",
              "      <td>0.133558</td>\n",
              "      <td>-0.021053</td>\n",
              "      <td>149.62</td>\n",
              "    </tr>\n",
              "    <tr>\n",
              "      <th>1</th>\n",
              "      <td>0.0</td>\n",
              "      <td>1.191857</td>\n",
              "      <td>0.266151</td>\n",
              "      <td>0.166480</td>\n",
              "      <td>0.448154</td>\n",
              "      <td>0.060018</td>\n",
              "      <td>-0.082361</td>\n",
              "      <td>-0.078803</td>\n",
              "      <td>0.085102</td>\n",
              "      <td>-0.255425</td>\n",
              "      <td>-0.166974</td>\n",
              "      <td>1.612727</td>\n",
              "      <td>1.065235</td>\n",
              "      <td>0.489095</td>\n",
              "      <td>-0.143772</td>\n",
              "      <td>0.635558</td>\n",
              "      <td>0.463917</td>\n",
              "      <td>-0.114805</td>\n",
              "      <td>-0.183361</td>\n",
              "      <td>-0.145783</td>\n",
              "      <td>-0.069083</td>\n",
              "      <td>-0.225775</td>\n",
              "      <td>-0.638672</td>\n",
              "      <td>0.101288</td>\n",
              "      <td>-0.339846</td>\n",
              "      <td>0.167170</td>\n",
              "      <td>0.125895</td>\n",
              "      <td>-0.008983</td>\n",
              "      <td>0.014724</td>\n",
              "      <td>2.69</td>\n",
              "    </tr>\n",
              "    <tr>\n",
              "      <th>2</th>\n",
              "      <td>1.0</td>\n",
              "      <td>-1.358354</td>\n",
              "      <td>-1.340163</td>\n",
              "      <td>1.773209</td>\n",
              "      <td>0.379780</td>\n",
              "      <td>-0.503198</td>\n",
              "      <td>1.800499</td>\n",
              "      <td>0.791461</td>\n",
              "      <td>0.247676</td>\n",
              "      <td>-1.514654</td>\n",
              "      <td>0.207643</td>\n",
              "      <td>0.624501</td>\n",
              "      <td>0.066084</td>\n",
              "      <td>0.717293</td>\n",
              "      <td>-0.165946</td>\n",
              "      <td>2.345865</td>\n",
              "      <td>-2.890083</td>\n",
              "      <td>1.109969</td>\n",
              "      <td>-0.121359</td>\n",
              "      <td>-2.261857</td>\n",
              "      <td>0.524980</td>\n",
              "      <td>0.247998</td>\n",
              "      <td>0.771679</td>\n",
              "      <td>0.909412</td>\n",
              "      <td>-0.689281</td>\n",
              "      <td>-0.327642</td>\n",
              "      <td>-0.139097</td>\n",
              "      <td>-0.055353</td>\n",
              "      <td>-0.059752</td>\n",
              "      <td>378.66</td>\n",
              "    </tr>\n",
              "    <tr>\n",
              "      <th>3</th>\n",
              "      <td>1.0</td>\n",
              "      <td>-0.966272</td>\n",
              "      <td>-0.185226</td>\n",
              "      <td>1.792993</td>\n",
              "      <td>-0.863291</td>\n",
              "      <td>-0.010309</td>\n",
              "      <td>1.247203</td>\n",
              "      <td>0.237609</td>\n",
              "      <td>0.377436</td>\n",
              "      <td>-1.387024</td>\n",
              "      <td>-0.054952</td>\n",
              "      <td>-0.226487</td>\n",
              "      <td>0.178228</td>\n",
              "      <td>0.507757</td>\n",
              "      <td>-0.287924</td>\n",
              "      <td>-0.631418</td>\n",
              "      <td>-1.059647</td>\n",
              "      <td>-0.684093</td>\n",
              "      <td>1.965775</td>\n",
              "      <td>-1.232622</td>\n",
              "      <td>-0.208038</td>\n",
              "      <td>-0.108300</td>\n",
              "      <td>0.005274</td>\n",
              "      <td>-0.190321</td>\n",
              "      <td>-1.175575</td>\n",
              "      <td>0.647376</td>\n",
              "      <td>-0.221929</td>\n",
              "      <td>0.062723</td>\n",
              "      <td>0.061458</td>\n",
              "      <td>123.50</td>\n",
              "    </tr>\n",
              "    <tr>\n",
              "      <th>4</th>\n",
              "      <td>2.0</td>\n",
              "      <td>-1.158233</td>\n",
              "      <td>0.877737</td>\n",
              "      <td>1.548718</td>\n",
              "      <td>0.403034</td>\n",
              "      <td>-0.407193</td>\n",
              "      <td>0.095921</td>\n",
              "      <td>0.592941</td>\n",
              "      <td>-0.270533</td>\n",
              "      <td>0.817739</td>\n",
              "      <td>0.753074</td>\n",
              "      <td>-0.822843</td>\n",
              "      <td>0.538196</td>\n",
              "      <td>1.345852</td>\n",
              "      <td>-1.119670</td>\n",
              "      <td>0.175121</td>\n",
              "      <td>-0.451449</td>\n",
              "      <td>-0.237033</td>\n",
              "      <td>-0.038195</td>\n",
              "      <td>0.803487</td>\n",
              "      <td>0.408542</td>\n",
              "      <td>-0.009431</td>\n",
              "      <td>0.798278</td>\n",
              "      <td>-0.137458</td>\n",
              "      <td>0.141267</td>\n",
              "      <td>-0.206010</td>\n",
              "      <td>0.502292</td>\n",
              "      <td>0.219422</td>\n",
              "      <td>0.215153</td>\n",
              "      <td>69.99</td>\n",
              "    </tr>\n",
              "  </tbody>\n",
              "</table>\n",
              "</div>"
            ],
            "text/plain": [
              "   Time        V1        V2        V3  ...       V26       V27       V28  Amount\n",
              "0   0.0 -1.359807 -0.072781  2.536347  ... -0.189115  0.133558 -0.021053  149.62\n",
              "1   0.0  1.191857  0.266151  0.166480  ...  0.125895 -0.008983  0.014724    2.69\n",
              "2   1.0 -1.358354 -1.340163  1.773209  ... -0.139097 -0.055353 -0.059752  378.66\n",
              "3   1.0 -0.966272 -0.185226  1.792993  ... -0.221929  0.062723  0.061458  123.50\n",
              "4   2.0 -1.158233  0.877737  1.548718  ...  0.502292  0.219422  0.215153   69.99\n",
              "\n",
              "[5 rows x 30 columns]"
            ]
          },
          "metadata": {
            "tags": []
          },
          "execution_count": 10
        }
      ]
    },
    {
      "cell_type": "code",
      "metadata": {
        "trusted": true,
        "colab": {
          "base_uri": "https://localhost:8080/"
        },
        "id": "9GBcWJRSbgPj",
        "outputId": "c708719c-4d51-418c-9ef0-e14eec7877cd"
      },
      "source": [
        "Y.value_counts()"
      ],
      "execution_count": null,
      "outputs": [
        {
          "output_type": "execute_result",
          "data": {
            "text/plain": [
              "0    284315\n",
              "1       492\n",
              "Name: Class, dtype: int64"
            ]
          },
          "metadata": {
            "tags": []
          },
          "execution_count": 11
        }
      ]
    },
    {
      "cell_type": "code",
      "metadata": {
        "trusted": true,
        "id": "t1vWTa3_bgPj"
      },
      "source": [
        "## Preparing the Training and test datasets\n",
        "X_train, X_test, Y_train, Y_test = train_test_split(X,Y,test_size=0.20, random_state = 10)"
      ],
      "execution_count": null,
      "outputs": []
    },
    {
      "cell_type": "markdown",
      "metadata": {
        "trusted": true,
        "id": "l-CDQvmAbgPk"
      },
      "source": [
        "X_train.shape"
      ]
    },
    {
      "cell_type": "code",
      "metadata": {
        "trusted": true,
        "colab": {
          "base_uri": "https://localhost:8080/"
        },
        "id": "cgjSklSSbgPk",
        "outputId": "73b07062-7e40-4921-9186-7bdec234fa4a"
      },
      "source": [
        "Y_train.shape"
      ],
      "execution_count": null,
      "outputs": [
        {
          "output_type": "execute_result",
          "data": {
            "text/plain": [
              "(227845,)"
            ]
          },
          "metadata": {
            "tags": []
          },
          "execution_count": 13
        }
      ]
    },
    {
      "cell_type": "code",
      "metadata": {
        "trusted": true,
        "colab": {
          "base_uri": "https://localhost:8080/"
        },
        "id": "bGpUryjhbgPk",
        "outputId": "89059796-3d87-435e-e82f-c9920876fb41"
      },
      "source": [
        "X_test.shape"
      ],
      "execution_count": null,
      "outputs": [
        {
          "output_type": "execute_result",
          "data": {
            "text/plain": [
              "(56962, 30)"
            ]
          },
          "metadata": {
            "tags": []
          },
          "execution_count": 14
        }
      ]
    },
    {
      "cell_type": "code",
      "metadata": {
        "trusted": true,
        "colab": {
          "base_uri": "https://localhost:8080/"
        },
        "id": "QxDyMPIhbgPk",
        "outputId": "97719c31-8082-49dc-b887-06655256d599"
      },
      "source": [
        "Y_train.shape"
      ],
      "execution_count": null,
      "outputs": [
        {
          "output_type": "execute_result",
          "data": {
            "text/plain": [
              "(227845,)"
            ]
          },
          "metadata": {
            "tags": []
          },
          "execution_count": 15
        }
      ]
    },
    {
      "cell_type": "markdown",
      "metadata": {
        "id": "aKrHTyI7bgPk"
      },
      "source": [
        ""
      ]
    },
    {
      "cell_type": "markdown",
      "metadata": {
        "id": "93h-dH_mbgPl"
      },
      "source": [
        "****Applying k in knn with geridSearch cv****"
      ]
    },
    {
      "cell_type": "code",
      "metadata": {
        "trusted": true,
        "colab": {
          "base_uri": "https://localhost:8080/"
        },
        "id": "iKpT1eVTbgPl",
        "outputId": "10f9d4da-1f9b-46cf-c7af-19a482df99d0"
      },
      "source": [
        "k_range = list(range(1,20))\n",
        "weight_options = [\"uniform\", \"distance\"]\n",
        "\n",
        "param_grid = dict(n_neighbors = k_range, weights = weight_options)\n",
        "\n",
        "\n",
        "knn = KNeighborsClassifier()\n",
        "\n",
        "grid = GridSearchCV(knn, param_grid, cv = 10, scoring = 'accuracy')\n",
        "grid.fit( X_train,Y_train)\n",
        "\n",
        "print (grid.best_score_)\n",
        "print (grid.best_params_)\n",
        "print (grid.best_estimator_)\n"
      ],
      "execution_count": null,
      "outputs": [
        {
          "output_type": "stream",
          "text": [
            "0.9984375348657947\n",
            "{'n_neighbors': 3, 'weights': 'distance'}\n",
            "KNeighborsClassifier(algorithm='auto', leaf_size=30, metric='minkowski',\n",
            "                     metric_params=None, n_jobs=None, n_neighbors=3, p=2,\n",
            "                     weights='distance')\n"
          ],
          "name": "stdout"
        }
      ]
    },
    {
      "cell_type": "markdown",
      "metadata": {
        "id": "hLXOH8Y8bgPl"
      },
      "source": [
        ",precision_score(Y_test, y_knn_predict)\n",
        ", f1_score(Y_test,y_knn_predict)"
      ]
    },
    {
      "cell_type": "code",
      "metadata": {
        "trusted": true,
        "id": "vUMza01vbgPl"
      },
      "source": [
        "K_list=list(range(1,20))\n",
        "\n",
        "#create empty list\n",
        "cv_scores=[]\n",
        "\n",
        "#perform K search\n",
        "for k in K_list:\n",
        "    knn=KNeighborsClassifier(n_neighbors=k)\n",
        "    scores=cross_val_score(knn, X_train,Y_train, cv=10, scoring='accuracy')\n",
        "    cv_scores.append(scores.mean())\n",
        "    \n"
      ],
      "execution_count": null,
      "outputs": []
    },
    {
      "cell_type": "code",
      "metadata": {
        "trusted": true,
        "colab": {
          "base_uri": "https://localhost:8080/",
          "height": 297
        },
        "id": "5UsU2FFzbgPm",
        "outputId": "15a4315c-6d4d-4072-88fc-855d57fbb5d8"
      },
      "source": [
        "#Plotting misclassification error\n",
        "\n",
        "# changing to misclassification error\n",
        "MSE = [1 - x for x in cv_scores]\n",
        "\n",
        "# determining best k\n",
        "optimal_k = K_list[MSE.index(min(MSE))]\n",
        "print (\"The optimal number of neighbors is %d\" % optimal_k)\n",
        "\n",
        "# plot misclassification error vs k\n",
        "plt.plot(K_list, MSE)\n",
        "plt.xlabel('Number of Neighbors K')\n",
        "plt.ylabel('Misclassification Error')\n",
        "plt.show()\n"
      ],
      "execution_count": null,
      "outputs": [
        {
          "output_type": "stream",
          "text": [
            "The optimal number of neighbors is 3\n"
          ],
          "name": "stdout"
        },
        {
          "output_type": "display_data",
          "data": {
            "image/png": "[encoded data removed]",
            "text/plain": [
              "<Figure size 432x288 with 1 Axes>"
            ]
          },
          "metadata": {
            "tags": [],
            "needs_background": "light"
          }
        }
      ]
    },
    {
      "cell_type": "code",
      "metadata": {
        "trusted": true,
        "colab": {
          "base_uri": "https://localhost:8080/",
          "height": 221
        },
        "id": "iL43xnntbgPm",
        "outputId": "f306701b-34d1-4c41-a312-164c5a80165f"
      },
      "source": [
        "\n",
        "\n",
        "#Look how the number of neighbors drastically increases the MSE rate\n",
        "\n",
        "# Try KNN to see how well it predicts fraud on the undersampled dataset\n",
        "knn=KNeighborsClassifier(n_neighbors=3)\n",
        "knn.fit( X_train,Y_train)\n",
        "y_knn_predict=knn.predict(X_test)\n",
        "print (accuracy_score(y_test, y_knn_predict))\n",
        "print(classification_report(y_test, y_knn_predict))"
      ],
      "execution_count": null,
      "outputs": [
        {
          "output_type": "error",
          "ename": "NameError",
          "evalue": "ignored",
          "traceback": [
            "\u001b[0;31m---------------------------------------------------------------------------\u001b[0m",
            "\u001b[0;31mNameError\u001b[0m                                 Traceback (most recent call last)",
            "\u001b[0;32m<ipython-input-20-3c263fac2f55>\u001b[0m in \u001b[0;36m<module>\u001b[0;34m()\u001b[0m\n\u001b[1;32m      7\u001b[0m \u001b[0mknn\u001b[0m\u001b[0;34m.\u001b[0m\u001b[0mfit\u001b[0m\u001b[0;34m(\u001b[0m \u001b[0mX_train\u001b[0m\u001b[0;34m,\u001b[0m\u001b[0mY_train\u001b[0m\u001b[0;34m)\u001b[0m\u001b[0;34m\u001b[0m\u001b[0;34m\u001b[0m\u001b[0m\n\u001b[1;32m      8\u001b[0m \u001b[0my_knn_predict\u001b[0m\u001b[0;34m=\u001b[0m\u001b[0mknn\u001b[0m\u001b[0;34m.\u001b[0m\u001b[0mpredict\u001b[0m\u001b[0;34m(\u001b[0m\u001b[0mX_test\u001b[0m\u001b[0;34m)\u001b[0m\u001b[0;34m\u001b[0m\u001b[0;34m\u001b[0m\u001b[0m\n\u001b[0;32m----> 9\u001b[0;31m \u001b[0mprint\u001b[0m \u001b[0;34m(\u001b[0m\u001b[0maccuracy_score\u001b[0m\u001b[0;34m(\u001b[0m\u001b[0my_test\u001b[0m\u001b[0;34m,\u001b[0m \u001b[0my_knn_predict\u001b[0m\u001b[0;34m)\u001b[0m\u001b[0;34m)\u001b[0m\u001b[0;34m\u001b[0m\u001b[0;34m\u001b[0m\u001b[0m\n\u001b[0m\u001b[1;32m     10\u001b[0m \u001b[0mprint\u001b[0m\u001b[0;34m(\u001b[0m\u001b[0mclassification_report\u001b[0m\u001b[0;34m(\u001b[0m\u001b[0my_test\u001b[0m\u001b[0;34m,\u001b[0m \u001b[0my_knn_predict\u001b[0m\u001b[0;34m)\u001b[0m\u001b[0;34m)\u001b[0m\u001b[0;34m\u001b[0m\u001b[0;34m\u001b[0m\u001b[0m\n",
            "\u001b[0;31mNameError\u001b[0m: name 'y_test' is not defined"
          ]
        }
      ]
    },
    {
      "cell_type": "code",
      "metadata": {
        "trusted": true,
        "id": "WykH4k1MbgPm"
      },
      "source": [
        "knn=KNeighborsClassifier(n_neighbors=17)\n",
        "knn.fit(X_train,Y_train)\n",
        "y_knn_predict=knn.predict(X_test)\n",
        "print(\"Knn without resampling\")\n",
        "print(\"\")\n",
        "print(\"Accuracy Score:\",accuracy_score(Y_test, y_knn_predict))\n",
        "print(\"Precision_Score:\",precision_score(Y_test, y_knn_predict))\n",
        "print(\"Recall Score:\",recall_score(Y_test, y_knn_predict))\n",
        "print(\"F1 Score:\", f1_score(Y_test,y_knn_predict))\n",
        "cm = confusion_matrix(Y_test, y_knn_predict)\n",
        "sns.heatmap(cm, annot=True)"
      ],
      "execution_count": null,
      "outputs": []
    },
    {
      "cell_type": "markdown",
      "metadata": {
        "id": "Z1k1LG1mbgPm"
      },
      "source": [
        "**Let us run Logistic regression and evaluate the performance metrics**"
      ]
    },
    {
      "cell_type": "code",
      "metadata": {
        "trusted": true,
        "id": "t8l9a5-ubgPn"
      },
      "source": [
        "## Logistic Regression\n",
        "lr_model = LogisticRegression(solver='liblinear').fit(X_train,Y_train)"
      ],
      "execution_count": null,
      "outputs": []
    },
    {
      "cell_type": "code",
      "metadata": {
        "trusted": true,
        "id": "1sZaxQBPbgPn"
      },
      "source": [
        "lr_pred = lr_model.predict(X_test)"
      ],
      "execution_count": null,
      "outputs": []
    },
    {
      "cell_type": "code",
      "metadata": {
        "trusted": true,
        "id": "SonlYx9IbgPn"
      },
      "source": [
        "print(\"Logistic Regression Metrics Without Resampling:\")\n",
        "print(\"\")\n",
        "print(\"Accuracy Score:\",accuracy_score(Y_test, lr_pred))\n",
        "print(\"Precision Score:\",precision_score(Y_test, lr_pred))\n",
        "print(\"Recall Score:\",recall_score(Y_test, lr_pred))\n",
        "print(\"F1 Score:\", f1_score(Y_test,lr_pred))\n",
        "cm = confusion_matrix(Y_test,lr_pred)\n",
        "sns.heatmap(cm, annot=True)"
      ],
      "execution_count": null,
      "outputs": []
    },
    {
      "cell_type": "markdown",
      "metadata": {
        "id": "oD1BLy_VbgPn"
      },
      "source": [
        "** Let us run Random Forest and evaluate the performance Metrics**"
      ]
    },
    {
      "cell_type": "code",
      "metadata": {
        "trusted": true,
        "id": "bmyu8yeMbgPn"
      },
      "source": [
        "## Random Forest Classifier \n",
        "\n",
        "rf = RandomForestClassifier(n_estimators=10)"
      ],
      "execution_count": null,
      "outputs": []
    },
    {
      "cell_type": "code",
      "metadata": {
        "trusted": true,
        "id": "irH482u-bgPn"
      },
      "source": [
        "rf_model = rf.fit(X_train, Y_train)"
      ],
      "execution_count": null,
      "outputs": []
    },
    {
      "cell_type": "code",
      "metadata": {
        "trusted": true,
        "id": "21GulfbmbgPo"
      },
      "source": [
        "rf_pred = rf_model.predict(X_test)"
      ],
      "execution_count": null,
      "outputs": []
    },
    {
      "cell_type": "code",
      "metadata": {
        "trusted": true,
        "id": "Rd528-oXbgPo"
      },
      "source": [
        "print(\"Random Forest Metrics Without Resampling:\")\n",
        "print(\"\")\n",
        "print(\"Accuracy Score:\",accuracy_score(Y_test, rf_pred))\n",
        "print(\"Precision Score:\",precision_score(Y_test, rf_pred))\n",
        "print(\"Recall Score:\", recall_score(Y_test, rf_pred))\n",
        "print(\"F1 Score\", f1_score(Y_test, rf_pred))\n",
        "#cm = confusion_matrix(Y_test, rf_pred)\n",
        "#sns.heatmap(cm, annot=True)"
      ],
      "execution_count": null,
      "outputs": []
    },
    {
      "cell_type": "markdown",
      "metadata": {
        "id": "33pC3htabgPo"
      },
      "source": [
        "**Oversampling minorty class** "
      ]
    },
    {
      "cell_type": "code",
      "metadata": {
        "trusted": true,
        "colab": {
          "base_uri": "https://localhost:8080/",
          "height": 214
        },
        "id": "PZSNtXcTbgPo",
        "outputId": "63793475-dea4-4fab-8e12-ab2ff1f9a046"
      },
      "source": [
        "# concatenate our training data back together\n",
        "\n",
        "X = pd.concat([X_train, Y_train], axis=1)\n",
        "X.head()"
      ],
      "execution_count": null,
      "outputs": [
        {
          "output_type": "execute_result",
          "data": {
            "text/html": [
              "<div>\n",
              "<style scoped>\n",
              "    .dataframe tbody tr th:only-of-type {\n",
              "        vertical-align: middle;\n",
              "    }\n",
              "\n",
              "    .dataframe tbody tr th {\n",
              "        vertical-align: top;\n",
              "    }\n",
              "\n",
              "    .dataframe thead th {\n",
              "        text-align: right;\n",
              "    }\n",
              "</style>\n",
              "<table border=\"1\" class=\"dataframe\">\n",
              "  <thead>\n",
              "    <tr style=\"text-align: right;\">\n",
              "      <th></th>\n",
              "      <th>Time</th>\n",
              "      <th>V1</th>\n",
              "      <th>V2</th>\n",
              "      <th>V3</th>\n",
              "      <th>V4</th>\n",
              "      <th>V5</th>\n",
              "      <th>V6</th>\n",
              "      <th>V7</th>\n",
              "      <th>V8</th>\n",
              "      <th>V9</th>\n",
              "      <th>V10</th>\n",
              "      <th>V11</th>\n",
              "      <th>V12</th>\n",
              "      <th>V13</th>\n",
              "      <th>V14</th>\n",
              "      <th>V15</th>\n",
              "      <th>V16</th>\n",
              "      <th>V17</th>\n",
              "      <th>V18</th>\n",
              "      <th>V19</th>\n",
              "      <th>V20</th>\n",
              "      <th>V21</th>\n",
              "      <th>V22</th>\n",
              "      <th>V23</th>\n",
              "      <th>V24</th>\n",
              "      <th>V25</th>\n",
              "      <th>V26</th>\n",
              "      <th>V27</th>\n",
              "      <th>V28</th>\n",
              "      <th>Amount</th>\n",
              "      <th>Class</th>\n",
              "    </tr>\n",
              "  </thead>\n",
              "  <tbody>\n",
              "    <tr>\n",
              "      <th>245582</th>\n",
              "      <td>152815.0</td>\n",
              "      <td>-3.678592</td>\n",
              "      <td>-2.185288</td>\n",
              "      <td>2.145642</td>\n",
              "      <td>-0.108133</td>\n",
              "      <td>5.326785</td>\n",
              "      <td>-3.320732</td>\n",
              "      <td>-4.715889</td>\n",
              "      <td>-0.676015</td>\n",
              "      <td>1.203082</td>\n",
              "      <td>0.122248</td>\n",
              "      <td>-0.998946</td>\n",
              "      <td>0.722797</td>\n",
              "      <td>0.097223</td>\n",
              "      <td>-0.069469</td>\n",
              "      <td>0.555198</td>\n",
              "      <td>0.312797</td>\n",
              "      <td>-0.542846</td>\n",
              "      <td>-0.443595</td>\n",
              "      <td>-0.289707</td>\n",
              "      <td>-1.528738</td>\n",
              "      <td>0.281099</td>\n",
              "      <td>-1.687634</td>\n",
              "      <td>-5.947433</td>\n",
              "      <td>0.991956</td>\n",
              "      <td>-0.871129</td>\n",
              "      <td>-0.674865</td>\n",
              "      <td>0.526634</td>\n",
              "      <td>0.318034</td>\n",
              "      <td>24.99</td>\n",
              "      <td>0</td>\n",
              "    </tr>\n",
              "    <tr>\n",
              "      <th>33921</th>\n",
              "      <td>37440.0</td>\n",
              "      <td>1.289134</td>\n",
              "      <td>0.467212</td>\n",
              "      <td>-1.035215</td>\n",
              "      <td>0.348510</td>\n",
              "      <td>0.965128</td>\n",
              "      <td>0.162317</td>\n",
              "      <td>0.188477</td>\n",
              "      <td>0.053558</td>\n",
              "      <td>-0.333772</td>\n",
              "      <td>-0.471211</td>\n",
              "      <td>0.820937</td>\n",
              "      <td>0.263504</td>\n",
              "      <td>0.112597</td>\n",
              "      <td>-0.877801</td>\n",
              "      <td>0.584377</td>\n",
              "      <td>0.757287</td>\n",
              "      <td>0.346576</td>\n",
              "      <td>0.624814</td>\n",
              "      <td>0.119817</td>\n",
              "      <td>-0.051953</td>\n",
              "      <td>-0.147832</td>\n",
              "      <td>-0.362923</td>\n",
              "      <td>-0.230544</td>\n",
              "      <td>-1.427948</td>\n",
              "      <td>0.650917</td>\n",
              "      <td>0.465196</td>\n",
              "      <td>-0.022903</td>\n",
              "      <td>0.009328</td>\n",
              "      <td>0.76</td>\n",
              "      <td>0</td>\n",
              "    </tr>\n",
              "    <tr>\n",
              "      <th>18808</th>\n",
              "      <td>29784.0</td>\n",
              "      <td>0.824080</td>\n",
              "      <td>-1.197571</td>\n",
              "      <td>1.671425</td>\n",
              "      <td>0.999394</td>\n",
              "      <td>-1.540596</td>\n",
              "      <td>1.480644</td>\n",
              "      <td>-1.451232</td>\n",
              "      <td>0.713797</td>\n",
              "      <td>1.952104</td>\n",
              "      <td>-0.394010</td>\n",
              "      <td>-0.035874</td>\n",
              "      <td>0.682330</td>\n",
              "      <td>-1.527577</td>\n",
              "      <td>-0.773465</td>\n",
              "      <td>-1.650429</td>\n",
              "      <td>-0.260905</td>\n",
              "      <td>0.332446</td>\n",
              "      <td>0.202658</td>\n",
              "      <td>0.317479</td>\n",
              "      <td>0.017694</td>\n",
              "      <td>0.162967</td>\n",
              "      <td>0.668738</td>\n",
              "      <td>-0.229503</td>\n",
              "      <td>-0.232408</td>\n",
              "      <td>0.256959</td>\n",
              "      <td>0.741650</td>\n",
              "      <td>0.042034</td>\n",
              "      <td>0.029245</td>\n",
              "      <td>125.00</td>\n",
              "      <td>0</td>\n",
              "    </tr>\n",
              "    <tr>\n",
              "      <th>52806</th>\n",
              "      <td>45653.0</td>\n",
              "      <td>-0.763642</td>\n",
              "      <td>1.153200</td>\n",
              "      <td>0.845734</td>\n",
              "      <td>-0.287226</td>\n",
              "      <td>-0.005743</td>\n",
              "      <td>-0.137666</td>\n",
              "      <td>0.255488</td>\n",
              "      <td>0.578325</td>\n",
              "      <td>-0.713008</td>\n",
              "      <td>-0.368070</td>\n",
              "      <td>0.344865</td>\n",
              "      <td>0.312627</td>\n",
              "      <td>-0.238789</td>\n",
              "      <td>0.685221</td>\n",
              "      <td>0.213261</td>\n",
              "      <td>0.779793</td>\n",
              "      <td>-0.754736</td>\n",
              "      <td>0.505755</td>\n",
              "      <td>0.608803</td>\n",
              "      <td>0.036340</td>\n",
              "      <td>-0.183093</td>\n",
              "      <td>-0.678964</td>\n",
              "      <td>-0.037631</td>\n",
              "      <td>-0.529925</td>\n",
              "      <td>-0.096189</td>\n",
              "      <td>0.108287</td>\n",
              "      <td>0.126774</td>\n",
              "      <td>0.039826</td>\n",
              "      <td>19.98</td>\n",
              "      <td>0</td>\n",
              "    </tr>\n",
              "    <tr>\n",
              "      <th>200909</th>\n",
              "      <td>133638.0</td>\n",
              "      <td>1.986009</td>\n",
              "      <td>-0.337558</td>\n",
              "      <td>-0.418934</td>\n",
              "      <td>0.369815</td>\n",
              "      <td>-0.360600</td>\n",
              "      <td>-0.012716</td>\n",
              "      <td>-0.588175</td>\n",
              "      <td>-0.005277</td>\n",
              "      <td>1.276081</td>\n",
              "      <td>-0.217711</td>\n",
              "      <td>-0.858090</td>\n",
              "      <td>1.082105</td>\n",
              "      <td>1.396117</td>\n",
              "      <td>-0.461902</td>\n",
              "      <td>0.438668</td>\n",
              "      <td>0.020872</td>\n",
              "      <td>-0.582864</td>\n",
              "      <td>0.032603</td>\n",
              "      <td>-0.253831</td>\n",
              "      <td>-0.113618</td>\n",
              "      <td>0.199920</td>\n",
              "      <td>0.863473</td>\n",
              "      <td>0.130956</td>\n",
              "      <td>0.660961</td>\n",
              "      <td>-0.034146</td>\n",
              "      <td>-0.240472</td>\n",
              "      <td>0.047897</td>\n",
              "      <td>-0.028392</td>\n",
              "      <td>9.99</td>\n",
              "      <td>0</td>\n",
              "    </tr>\n",
              "  </tbody>\n",
              "</table>\n",
              "</div>"
            ],
            "text/plain": [
              "            Time        V1        V2  ...       V28  Amount  Class\n",
              "245582  152815.0 -3.678592 -2.185288  ...  0.318034   24.99      0\n",
              "33921    37440.0  1.289134  0.467212  ...  0.009328    0.76      0\n",
              "18808    29784.0  0.824080 -1.197571  ...  0.029245  125.00      0\n",
              "52806    45653.0 -0.763642  1.153200  ...  0.039826   19.98      0\n",
              "200909  133638.0  1.986009 -0.337558  ... -0.028392    9.99      0\n",
              "\n",
              "[5 rows x 31 columns]"
            ]
          },
          "metadata": {
            "tags": []
          },
          "execution_count": 16
        }
      ]
    },
    {
      "cell_type": "markdown",
      "metadata": {
        "id": "PiYf_R7QbgPo"
      },
      "source": [
        "**we will apply resample function from sklearn**"
      ]
    },
    {
      "cell_type": "code",
      "metadata": {
        "trusted": true,
        "colab": {
          "base_uri": "https://localhost:8080/"
        },
        "id": "N9xx_yuDbgPp",
        "outputId": "1a95cc1d-5efd-41bd-b513-748f8f2ac8fc"
      },
      "source": [
        "not_fraud = X[X.Class==0]\n",
        "fraud = X[X.Class==1]\n",
        "\n",
        "# upsample minority\n",
        "fraud_upsampled = resample(fraud,\n",
        "                          replace=True, # sample with replacement\n",
        "                          n_samples=len(not_fraud), # match number in majority class\n",
        "                          random_state=27) # reproducible results\n",
        "\n",
        "# concatinate the upsampled minority class with the majority class\n",
        "upsampled = pd.concat([not_fraud, fraud_upsampled])\n",
        "\n",
        "# check new class counts\n",
        "upsampled.Class.value_counts()"
      ],
      "execution_count": null,
      "outputs": [
        {
          "output_type": "execute_result",
          "data": {
            "text/plain": [
              "1    227447\n",
              "0    227447\n",
              "Name: Class, dtype: int64"
            ]
          },
          "metadata": {
            "tags": []
          },
          "execution_count": 17
        }
      ]
    },
    {
      "cell_type": "code",
      "metadata": {
        "id": "TiG6dMlaUPC8"
      },
      "source": [
        ""
      ],
      "execution_count": null,
      "outputs": []
    },
    {
      "cell_type": "code",
      "metadata": {
        "trusted": true,
        "colab": {
          "base_uri": "https://localhost:8080/",
          "height": 313
        },
        "id": "QpgItc-wUPZk",
        "outputId": "398b9e1d-42db-4195-a1ff-2d84020db656"
      },
      "source": [
        "upsampled_not_fraud = X[X.Class==0]\n",
        "upsampled_fraud = X[X.Class==1]\n",
        "\n",
        "data = np.array([[227447], [227447]])\n",
        "data_std = np.array([[1 ], [1]])    \n",
        "\n",
        "length = len(data)\n",
        "x_labels = ['0', '1']\n",
        "\n",
        "# Set plot parameters\n",
        "fig, ax = plt.subplots()\n",
        "width = 0.9 # width of bar\n",
        "x = np.arange(length)\n",
        "\n",
        "ax.bar(x, data[:,0], width, color='blue')\n",
        "\n",
        "ax.set_ylabel('count')\n",
        "# ax.set_ylim(0,100)\n",
        "# ax.set_xticks(x + width + width/2)\n",
        "ax.set_xticklabels(x_labels)\n",
        "ax.set_xlabel('label')\n",
        "ax.set_title('After randomly oversampling')\n",
        "ax.legend()\n",
        "# plt.grid(True, 'major', 'y', ls='--', lw=.5, c='k', alpha=.3)\n",
        "\n",
        "# fig.tight_layout()\n",
        "plt.show()"
      ],
      "execution_count": null,
      "outputs": [
        {
          "output_type": "stream",
          "text": [
            "No handles with labels found to put in legend.\n"
          ],
          "name": "stderr"
        },
        {
          "output_type": "display_data",
          "data": {
            "image/png": "[encoded data removed]",
            "text/plain": [
              "<Figure size 432x288 with 1 Axes>"
            ]
          },
          "metadata": {
            "tags": [],
            "needs_background": "light"
          }
        }
      ]
    },
    {
      "cell_type": "markdown",
      "metadata": {
        "id": "tp-gVLm7bgPp"
      },
      "source": [
        "**We can see the Fraud and Non Fraud rows are same in count. Now we will run classifier algorithm and check whether the metrics parameter changed or not.**"
      ]
    },
    {
      "cell_type": "code",
      "metadata": {
        "trusted": true,
        "id": "YgaoHM6jbgPq"
      },
      "source": [
        "y_train = upsampled.Class\n",
        "X_train = upsampled.drop('Class', axis = 1)"
      ],
      "execution_count": null,
      "outputs": []
    },
    {
      "cell_type": "code",
      "metadata": {
        "trusted": true,
        "id": "YRzJmXztbgPq"
      },
      "source": [
        "X_train.shape"
      ],
      "execution_count": null,
      "outputs": []
    },
    {
      "cell_type": "code",
      "metadata": {
        "trusted": true,
        "id": "TqbhcPIabgPq"
      },
      "source": [
        "y_train.shape"
      ],
      "execution_count": null,
      "outputs": []
    },
    {
      "cell_type": "markdown",
      "metadata": {
        "id": "GB8hkbG7bgPq"
      },
      "source": [
        "**Apply Knn **"
      ]
    },
    {
      "cell_type": "code",
      "metadata": {
        "trusted": true,
        "id": "ma1WilIrbgPq"
      },
      "source": [
        "knn=KNeighborsClassifier(n_neighbors=13)\n",
        "knn.fit(X_train,y_train)\n",
        "y_knn_predict=knn.predict(X_test)\n",
        "print(\"Knn model After Randomly Oversampling minority class:\")\n",
        "print(\"\")\n",
        "print(\"Accuracy Score:\",accuracy_score(Y_test,y_knn_predict))\n",
        "print(\"Precision Score:\",precision_score(Y_test,y_knn_predict))\n",
        "print(\"Recall Score:\", recall_score(Y_test,y_knn_predict))\n",
        "print(\"F1 Score\", f1_score(Y_test,y_knn_predict))\n",
        "cm = confusion_matrix(Y_test,y_knn_predict)\n",
        "sns.heatmap(cm, annot=True)\n"
      ],
      "execution_count": null,
      "outputs": []
    },
    {
      "cell_type": "code",
      "metadata": {
        "trusted": true,
        "id": "qm8RYe_xbgPr"
      },
      "source": [
        "## Logistic Regression\n",
        "lr_model2 = LogisticRegression(solver='liblinear').fit(X_train,y_train)"
      ],
      "execution_count": null,
      "outputs": []
    },
    {
      "cell_type": "code",
      "metadata": {
        "trusted": true,
        "id": "w504lToebgPr"
      },
      "source": [
        "lr_pred2 = lr_model2.predict(X_test)"
      ],
      "execution_count": null,
      "outputs": []
    },
    {
      "cell_type": "code",
      "metadata": {
        "trusted": true,
        "id": "kEarAMQPbgPr"
      },
      "source": [
        "print(\"Logistic Regression model Evaluation Metrics after Random Oversampling minority class:\")\n",
        "print(\"\")\n",
        "print(\"Accuracy Score:\",accuracy_score(Y_test,lr_pred2))\n",
        "print(\"Precision Score:\",precision_score(Y_test,lr_pred2))\n",
        "print(\"Recall Score:\", recall_score(Y_test,lr_pred2))\n",
        "print(\"F1 Score\", f1_score(Y_test,lr_pred2))\n",
        "cm = confusion_matrix(Y_test,lr_pred2)\n",
        "sns.heatmap(cm, annot=True)\n"
      ],
      "execution_count": null,
      "outputs": []
    },
    {
      "cell_type": "code",
      "metadata": {
        "trusted": true,
        "id": "xlVXvTf1bgPr"
      },
      "source": [
        "## Random Forest Classifier \n",
        "\n",
        "rf = RandomForestClassifier(n_estimators=10)"
      ],
      "execution_count": null,
      "outputs": []
    },
    {
      "cell_type": "code",
      "metadata": {
        "trusted": true,
        "id": "77vdu-nHbgPr"
      },
      "source": [
        "rf_model2 = rf.fit(X_train, y_train)"
      ],
      "execution_count": null,
      "outputs": []
    },
    {
      "cell_type": "code",
      "metadata": {
        "trusted": true,
        "id": "nUnRoTWRbgPr"
      },
      "source": [
        "rf_pred2 = rf_model2.predict(X_test)"
      ],
      "execution_count": null,
      "outputs": []
    },
    {
      "cell_type": "code",
      "metadata": {
        "trusted": true,
        "id": "Gt5nkGPjbgPs"
      },
      "source": [
        "print(\"Random Forest Metrics after Oversampling minority class:\")\n",
        "print(\"\")\n",
        "print(\"Accuracy Score:\",accuracy_score(Y_test, rf_pred2))\n",
        "print(\"Precision Score:\",precision_score(Y_test, rf_pred2))\n",
        "print(\"Recall Score:\", recall_score(Y_test, rf_pred2))\n",
        "print(\"F1 Score\", f1_score(Y_test, rf_pred2))\n",
        "cm = confusion_matrix(Y_test, rf_pred2)\n",
        "sns.heatmap(cm, annot=True)"
      ],
      "execution_count": null,
      "outputs": []
    },
    {
      "cell_type": "markdown",
      "metadata": {
        "id": "ZwAIqxBkbgPs"
      },
      "source": [
        ""
      ]
    },
    {
      "cell_type": "markdown",
      "metadata": {
        "id": "AREMww8_bgPs"
      },
      "source": [
        ""
      ]
    },
    {
      "cell_type": "code",
      "metadata": {
        "trusted": true,
        "colab": {
          "base_uri": "https://localhost:8080/"
        },
        "id": "tSSYffXdbgPs",
        "outputId": "45d99213-0c11-4248-ca21-edd8adc36130"
      },
      "source": [
        ""
      ],
      "execution_count": null,
      "outputs": [
        {
          "output_type": "stream",
          "text": [
            "/usr/local/lib/python3.7/dist-packages/sklearn/externals/six.py:31: FutureWarning: The module is deprecated in version 0.21 and will be removed in version 0.23 since we've dropped support for Python 2.7. Please rely on the official version of six (https://pypi.org/project/six/).\n",
            "  \"(https://pypi.org/project/six/).\", FutureWarning)\n",
            "/usr/local/lib/python3.7/dist-packages/sklearn/utils/deprecation.py:144: FutureWarning: The sklearn.neighbors.base module is  deprecated in version 0.22 and will be removed in version 0.24. The corresponding classes / functions should instead be imported from sklearn.neighbors. Anything that cannot be imported from sklearn.neighbors is now part of the private API.\n",
            "  warnings.warn(message, FutureWarning)\n"
          ],
          "name": "stderr"
        }
      ]
    },
    {
      "cell_type": "code",
      "metadata": {
        "trusted": true,
        "colab": {
          "base_uri": "https://localhost:8080/"
        },
        "id": "oI93qPhcbgPs",
        "outputId": "9de04c1f-a46b-47ee-dbd8-9c8521310cf1"
      },
      "source": [
        "from imblearn.over_sampling import SMOTE\n",
        "# Separate input features and target\n",
        "y = cc.Class\n",
        "X = cc.drop('Class', axis=1)\n",
        "\n",
        "# setting up testing and training sets\n",
        "X_train, X_test, y_train, y_test = train_test_split(X, y, test_size=0.20, random_state=27)\n",
        "sm = SMOTE(random_state=12, ratio=1.0)\n"
      ],
      "execution_count": null,
      "outputs": [
        {
          "output_type": "stream",
          "text": [
            "/usr/local/lib/python3.7/dist-packages/sklearn/utils/deprecation.py:87: FutureWarning: Function safe_indexing is deprecated; safe_indexing is deprecated in version 0.22 and will be removed in version 0.24.\n",
            "  warnings.warn(msg, category=FutureWarning)\n"
          ],
          "name": "stderr"
        },
        {
          "output_type": "execute_result",
          "data": {
            "text/plain": [
              "(454914,)"
            ]
          },
          "metadata": {
            "tags": []
          },
          "execution_count": 53
        }
      ]
    },
    {
      "cell_type": "code",
      "metadata": {
        "id": "_q-M2FQyeLcB"
      },
      "source": [
        "X_train, y_train = sm.fit_sample(X_train, y_train)\n",
        "y_train.shape"
      ],
      "execution_count": null,
      "outputs": []
    },
    {
      "cell_type": "markdown",
      "metadata": {
        "id": "38Eh2zSHbgPt"
      },
      "source": [
        "**Running knn**"
      ]
    },
    {
      "cell_type": "code",
      "metadata": {
        "trusted": true,
        "colab": {
          "base_uri": "https://localhost:8080/",
          "height": 389
        },
        "id": "lUi0YPFLbgPt",
        "outputId": "a1471b66-b3a0-41ed-927f-9547c22478cd"
      },
      "source": [
        "knn=KNeighborsClassifier(n_neighbors=3)\n",
        "knn.fit(X_train, y_train)\n",
        "y_knn_predict=knn.predict(X_test)\n",
        "print(\"Knn after Metrics after SMOTE:\")\n",
        "print(\"\")\n",
        "print(\"Accuracy Score:\",accuracy_score(Y_test,y_knn_predict))\n",
        "print(\"Precision Score:\",precision_score(Y_test,y_knn_predict))\n",
        "print(\"Recall Score:\", recall_score(Y_test,y_knn_predict))\n",
        "print(\"F1 Score\", f1_score(Y_test,y_knn_predict))\n",
        "cm = confusion_matrix(Y_test,y_knn_predict)\n",
        "sns.heatmap(cm, annot=True)"
      ],
      "execution_count": null,
      "outputs": [
        {
          "output_type": "stream",
          "text": [
            "Knn after Metrics after SMOTE:\n",
            "\n",
            "Accuracy Score: 0.9182261858783048\n",
            "Precision Score: 0.0015290519877675841\n",
            "Recall Score: 0.07446808510638298\n",
            "F1 Score 0.0029965753424657537\n"
          ],
          "name": "stdout"
        },
        {
          "output_type": "execute_result",
          "data": {
            "text/plain": [
              "<matplotlib.axes._subplots.AxesSubplot at 0x7f83f3e3fc90>"
            ]
          },
          "metadata": {
            "tags": []
          },
          "execution_count": 43
        },
        {
          "output_type": "display_data",
          "data": {
            "image/png": "[encoded data removed]",
            "text/plain": [
              "<Figure size 432x288 with 2 Axes>"
            ]
          },
          "metadata": {
            "tags": [],
            "needs_background": "light"
          }
        }
      ]
    },
    {
      "cell_type": "markdown",
      "metadata": {
        "id": "GZ4QZEqUbgPt"
      },
      "source": [
        "**Running Logistic regression**"
      ]
    },
    {
      "cell_type": "code",
      "metadata": {
        "trusted": true,
        "id": "3_0W97OcbgPt"
      },
      "source": [
        "lr_pred_smote = LogisticRegression(solver='liblinear').fit(X_train, y_train)\n",
        "\n",
        "smote_pred = lr_pred_smote.predict(X_test)\n"
      ],
      "execution_count": null,
      "outputs": []
    },
    {
      "cell_type": "code",
      "metadata": {
        "trusted": true,
        "id": "O0Dz-xlDbgPt"
      },
      "source": [
        "print(\"Logistic Regression Metrics after SMOTE:\")\n",
        "print(\"\")\n",
        "print(\"Accuracy Score:\",accuracy_score(y_test,smote_pred))\n",
        "print(\"Precision Score:\",precision_score(y_test,smote_pred))\n",
        "print(\"Recall Score:\", recall_score(y_test,smote_pred))\n",
        "print(\"F1 Score\", f1_score(y_test,smote_pred))\n",
        "cm = confusion_matrix(y_test,smote_pred)\n",
        "sns.heatmap(cm, annot=True)"
      ],
      "execution_count": null,
      "outputs": []
    },
    {
      "cell_type": "markdown",
      "metadata": {
        "id": "YLXFR3q6bgPt"
      },
      "source": [
        "**Running Random Forest**"
      ]
    },
    {
      "cell_type": "code",
      "metadata": {
        "trusted": true,
        "id": "97WO6DW9bgPu"
      },
      "source": [
        "rf_pred_smote = RandomForestClassifier(n_estimators=10).fit(X_train, y_train)\n",
        "\n",
        "rf_smote_pred = rf_pred_smote.predict(X_test)\n"
      ],
      "execution_count": null,
      "outputs": []
    },
    {
      "cell_type": "code",
      "metadata": {
        "trusted": true,
        "id": "1_iNQk60bgPu"
      },
      "source": [
        "print(\"Random Forest Metrics after SMOTE:\")\n",
        "print(\"\")\n",
        "print(\"Accuracy Score:\",accuracy_score(y_test, rf_smote_pred))\n",
        "print(\"Precision Score:\",precision_score(y_test, rf_smote_pred))\n",
        "print(\"Recall Score:\", recall_score(y_test, rf_smote_pred))\n",
        "print(\"F1 Score\", f1_score(y_test, rf_smote_pred))\n",
        "cm = confusion_matrix(y_test, rf_smote_pred)\n",
        "sns.heatmap(cm, annot=True)"
      ],
      "execution_count": null,
      "outputs": []
    },
    {
      "cell_type": "markdown",
      "metadata": {
        "id": "3VtVmbkobgPu"
      },
      "source": [
        "**We can see the Recall score has increased significantly after the SMOTE**"
      ]
    },
    {
      "cell_type": "markdown",
      "metadata": {
        "id": "4gBQZUrubgPu"
      },
      "source": [
        ""
      ]
    },
    {
      "cell_type": "code",
      "metadata": {
        "trusted": true,
        "colab": {
          "base_uri": "https://localhost:8080/",
          "height": 297
        },
        "id": "Y08xLP8fbgPu",
        "outputId": "ec800272-36d8-455d-94e3-85f11db29d4b"
      },
      "source": [
        "data = np.array([[47.84, 65.46, 68.15 ], [80.56, 79.38, 80.74], [96.03, 97.30, 93.52]])\n",
        "data_std = np.array([[1, 2, 3 ], [1, 2 , 3], [1, 2 ,3 ]])    \n",
        "\n",
        "length = len(data)\n",
        "x_labels = ['kNN', 'LR', 'RF']\n",
        "\n",
        "# Set plot parameters\n",
        "fig, ax = plt.subplots()\n",
        "width = 0.2 # width of bar\n",
        "x = np.arange(length)\n",
        "\n",
        "ax.bar(x, data[:,0], width, color='black', label='Without Resampling')\n",
        "ax.bar(x + width, data[:,1], width, color='r', label='With Random Oversampling')\n",
        "ax.bar(x + width + width, data[:,2], width, color='g', label='With SMOTE')\n",
        "\n",
        "ax.set_ylabel('Precision')\n",
        "ax.set_ylim(0,100)\n",
        "ax.set_xticks(x + width + width/2)\n",
        "ax.set_xticklabels(x_labels)\n",
        "ax.set_xlabel('Models')\n",
        "ax.set_title('Impact Of Resampling Techniques On Precision')\n",
        "ax.legend()\n",
        "plt.grid(True, 'major', 'y', ls='--', lw=.5, c='k', alpha=.3)\n",
        "\n",
        "fig.tight_layout()\n",
        "plt.show()"
      ],
      "execution_count": null,
      "outputs": [
        {
          "output_type": "display_data",
          "data": {
            "image/png": "[encoded data removed]",
            "text/plain": [
              "<Figure size 432x288 with 1 Axes>"
            ]
          },
          "metadata": {
            "tags": [],
            "needs_background": "light"
          }
        }
      ]
    },
    {
      "cell_type": "code",
      "metadata": {
        "trusted": true,
        "colab": {
          "base_uri": "https://localhost:8080/",
          "height": 297
        },
        "id": "o78BcnK0bgPu",
        "outputId": "0b63aad5-f771-46c5-e622-a3c9e9a983e1"
      },
      "source": [
        "data = np.array([[01.06, 20.21, 30.16 ], [61.70, 68.17, 69.54], [71.23, 76.60, 82.62]])\n",
        "data_std = np.array([[1, 2, 3 ], [1, 2 , 3], [1, 2 ,3 ]])    \n",
        "\n",
        "length = len(data)\n",
        "x_labels = ['kNN', 'LR', 'RF']\n",
        "\n",
        "# Set plot parameters\n",
        "fig, ax = plt.subplots()\n",
        "width = 0.2 # width of bar\n",
        "x = np.arange(length)\n",
        "\n",
        "ax.bar(x, data[:,0], width, color='black', label='Without Resampling')\n",
        "ax.bar(x + width, data[:,1], width, color='r', label='With Random Oversampling')\n",
        "ax.bar(x + width + width, data[:,2], width, color='g', label='With SMOTE')\n",
        "\n",
        "ax.set_ylabel('Recall')\n",
        "ax.set_ylim(0,100)\n",
        "ax.set_xticks(x + width + width/2)\n",
        "ax.set_xticklabels(x_labels)\n",
        "ax.set_xlabel('Models')\n",
        "ax.set_title('Impact Of Resampling Techniques On Recall')\n",
        "ax.legend()\n",
        "plt.grid(True, 'major', 'y', ls='--', lw=.5, c='k', alpha=.3)\n",
        "\n",
        "fig.tight_layout()\n",
        "plt.show()"
      ],
      "execution_count": null,
      "outputs": [
        {
          "output_type": "display_data",
          "data": {
            "image/png": "[encoded data removed]",
            "text/plain": [
              "<Figure size 432x288 with 1 Axes>"
            ]
          },
          "metadata": {
            "tags": [],
            "needs_background": "light"
          }
        }
      ]
    },
    {
      "cell_type": "code",
      "metadata": {
        "trusted": true,
        "colab": {
          "base_uri": "https://localhost:8080/",
          "height": 297
        },
        "id": "w5P5oUnubgPv",
        "outputId": "6b5eae16-c4e1-4433-e341-cea4024025b5"
      },
      "source": [
        "data = np.array([[02.08 , 30.89 , 41.81 ], [69.88 , 73.35 , 74.72], [81.79 , 85.71 , 87.78]])\n",
        "data_std = np.array([[1, 2, 3 ], [1, 2 , 3], [1, 2 ,3 ]])    \n",
        "\n",
        "length = len(data)\n",
        "x_labels = ['kNN', 'LR', 'RF']\n",
        "\n",
        "# Set plot parameters\n",
        "fig, ax = plt.subplots()\n",
        "width = 0.2 # width of bar\n",
        "x = np.arange(length)\n",
        "\n",
        "ax.bar(x, data[:,0], width, color='black', label='Without Resampling')\n",
        "ax.bar(x + width, data[:,1], width, color='r', label='With Random Overampling')\n",
        "ax.bar(x + width + width, data[:,2], width, color='g', label='With SMOTE')\n",
        "\n",
        "ax.set_ylabel('F1-Score')\n",
        "ax.set_ylim(0,100)\n",
        "ax.set_xticks(x + width + width/2)\n",
        "ax.set_xticklabels(x_labels)\n",
        "ax.set_xlabel('Models')\n",
        "ax.set_title('Impact Of Resampling Techniques On F1-Score')\n",
        "ax.legend()\n",
        "plt.grid(True, 'major', 'y', ls='--', lw=.5, c='k', alpha=.3)\n",
        "\n",
        "fig.tight_layout()\n",
        "plt.show()"
      ],
      "execution_count": null,
      "outputs": [
        {
          "output_type": "display_data",
          "data": {
            "image/png": "[encoded data removed]",
            "text/plain": [
              "<Figure size 432x288 with 1 Axes>"
            ]
          },
          "metadata": {
            "tags": [],
            "needs_background": "light"
          }
        }
      ]
    }
  ]
}